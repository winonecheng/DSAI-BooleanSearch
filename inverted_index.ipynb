{
 "cells": [
  {
   "cell_type": "code",
   "execution_count": 1,
   "metadata": {},
   "outputs": [],
   "source": [
    "import csv\n",
    "import re\n",
    "import os"
   ]
  },
  {
   "cell_type": "code",
   "execution_count": 2,
   "metadata": {},
   "outputs": [],
   "source": [
    "eng_dict = dict()\n",
    "ch2_dict = dict()\n",
    "ch3_dict = dict()"
   ]
  },
  {
   "cell_type": "code",
   "execution_count": 3,
   "metadata": {},
   "outputs": [],
   "source": [
    "def tokenize(str):\n",
    "    eng_match = re.findall(r'[a-zA-Z]{2,}', str)\n",
    "    ch2_match = re.findall(r'(?=([\\u4e00-\\u9fff]{2}))', str)\n",
    "    ch3_match = re.findall(r'(?=([\\u4e00-\\u9fff]{3}))', str)\n",
    "    return [eng_match, ch2_match, ch3_match]"
   ]
  },
  {
   "cell_type": "code",
   "execution_count": 4,
   "metadata": {},
   "outputs": [],
   "source": [
    "def inverted_index(eng_match, ch2_match, ch3_match, index):\n",
    "    for gram in ch2_match:\n",
    "        if gram not in ch2_dict:\n",
    "            ch2_dict[gram] = [index]\n",
    "        else:\n",
    "            ch2_dict[gram].append(index)\n",
    "\n",
    "    for gram in ch3_match:\n",
    "        if gram not in ch3_dict:\n",
    "            ch3_dict[gram] = [index]\n",
    "        else:\n",
    "            ch3_dict[gram].append(index)\n",
    "\n",
    "    for gram in eng_match:\n",
    "        if gram not in eng_dict:\n",
    "            eng_dict[gram] = [index]\n",
    "        else:\n",
    "            eng_dict[gram].append(index)"
   ]
  },
  {
   "cell_type": "code",
   "execution_count": 5,
   "metadata": {
    "scrolled": true
   },
   "outputs": [
    {
     "name": "stdout",
     "output_type": "stream",
     "text": [
      "CPU times: user 3.24 s, sys: 108 ms, total: 3.35 s\n",
      "Wall time: 3.34 s\n"
     ]
    }
   ],
   "source": [
    "%%time\n",
    "with open('source.csv', newline='') as f:\n",
    "    reader = csv.reader(f, delimiter=',')\n",
    "    index = 1\n",
    "    for row in reader:\n",
    "        matches = tokenize(row[1])\n",
    "        inverted_index(*matches, index)\n",
    "        index += 1"
   ]
  },
  {
   "cell_type": "code",
   "execution_count": 6,
   "metadata": {},
   "outputs": [],
   "source": [
    "def bool_search(words, oper):\n",
    "    index = list()\n",
    "    for word in words:\n",
    "        match = re.search('[a-zA-Z]', word)\n",
    "        if match:\n",
    "            index.append(eng_dict[word])\n",
    "        elif len(word) == 2:\n",
    "            index.append(ch2_dict[word])\n",
    "        elif len(word) == 3:\n",
    "            index.append(ch3_dict[word])\n",
    "            \n",
    "    if oper is 'and':\n",
    "        return list(set(index[0]).intersection(*index[1:]))\n",
    "    elif oper is 'or':\n",
    "        return list(set(index[0]).union(*index[1:]))\n",
    "    elif oper is 'not':\n",
    "        return list(set(index[0]).difference(*index[1:]))"
   ]
  },
  {
   "cell_type": "code",
   "execution_count": 7,
   "metadata": {},
   "outputs": [
    {
     "name": "stdout",
     "output_type": "stream",
     "text": [
      "CPU times: user 6.26 ms, sys: 0 ns, total: 6.26 ms\n",
      "Wall time: 6.14 ms\n"
     ]
    }
   ],
   "source": [
    "%%time\n",
    "with open('query.txt', 'r') as f:\n",
    "    with open('output1.txt', 'w') as fout:\n",
    "        for row in f.readlines():\n",
    "            row = row.strip()\n",
    "            if 'and' in row:\n",
    "                words = re.split(r' and ', row)\n",
    "                result = bool_search(words, 'and')\n",
    "\n",
    "            elif 'or' in row:\n",
    "                words = re.split(r' or ', row)\n",
    "                result = bool_search(words, 'or')\n",
    "\n",
    "            elif 'not' in row:\n",
    "                words = re.split(r' not ', row)\n",
    "                result = bool_search(words, 'not')\n",
    "\n",
    "            if len(result) != 0:\n",
    "                fout.write(','.join([str(index) for index in sorted(result)]) + '\\n')\n",
    "            else:\n",
    "                fout.write('0\\n')\n",
    "        \n",
    "        # Remove the last new line\n",
    "        fout.seek(fout.tell()-1)\n",
    "        fout.truncate()"
   ]
  }
 ],
 "metadata": {
  "kernelspec": {
   "display_name": "venv",
   "language": "python",
   "name": "venv"
  },
  "language_info": {
   "codemirror_mode": {
    "name": "ipython",
    "version": 3
   },
   "file_extension": ".py",
   "mimetype": "text/x-python",
   "name": "python",
   "nbconvert_exporter": "python",
   "pygments_lexer": "ipython3",
   "version": "3.6.3"
  }
 },
 "nbformat": 4,
 "nbformat_minor": 2
}
